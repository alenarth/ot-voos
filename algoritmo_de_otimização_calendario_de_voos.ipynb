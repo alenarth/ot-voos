{
  "nbformat": 4,
  "nbformat_minor": 0,
  "metadata": {
    "colab": {
      "provenance": [],
      "authorship_tag": "ABX9TyN8G+wgR5f+3Nf2EH20+lij",
      "include_colab_link": true
    },
    "kernelspec": {
      "name": "python3",
      "display_name": "Python 3"
    },
    "language_info": {
      "name": "python"
    }
  },
  "cells": [
    {
      "cell_type": "markdown",
      "metadata": {
        "id": "view-in-github",
        "colab_type": "text"
      },
      "source": [
        "<a href=\"https://colab.research.google.com/github/alenarth/ot-voos/blob/main/algoritmo_de_otimiza%C3%A7%C3%A3o_calendario_de_voos.ipynb\" target=\"_parent\"><img src=\"https://colab.research.google.com/assets/colab-badge.svg\" alt=\"Open In Colab\"/></a>"
      ]
    },
    {
      "cell_type": "markdown",
      "source": [
        "## Representação do problema\n"
      ],
      "metadata": {
        "id": "jlyVorVCKrki"
      }
    },
    {
      "cell_type": "code",
      "source": [
        "pessoas = [('Lisboa', 'LIS'),\n",
        "           ('Madrid', 'MAD'),\n",
        "           ('Paris', 'CDG'),\n",
        "           ('Dublin', 'DUB'),\n",
        "           ('Bruxelas', 'BRU'),\n",
        "           ('Londres','LHR')]"
      ],
      "metadata": {
        "id": "48hF9X6NKupH"
      },
      "execution_count": 1,
      "outputs": []
    },
    {
      "cell_type": "code",
      "source": [
        "destino = 'FCO'"
      ],
      "metadata": {
        "id": "SgavSpwbLgNH"
      },
      "execution_count": 3,
      "outputs": []
    },
    {
      "cell_type": "code",
      "source": [
        "voos = {('BRU', 'FCO'): ['15:44', '18:55', 382]}"
      ],
      "metadata": {
        "id": "1FqY1XheL933"
      },
      "execution_count": 4,
      "outputs": []
    },
    {
      "cell_type": "code",
      "source": [
        "voos = {}\n",
        "for linha in open('/content/flights.txt'):\n",
        "  #print(linha.split(','))\n",
        "  origem, destino, saida, chegada, preco = linha.split(',')\n",
        "  voos.setdefault((origem, destino), [])\n",
        "  voos[(origem, destino)].append((saida, chegada, int(preco)))"
      ],
      "metadata": {
        "id": "rD3snO4oLxJI"
      },
      "execution_count": 15,
      "outputs": []
    },
    {
      "cell_type": "code",
      "source": [
        "agenda = [1,2, 3,2, 7,3, 6,3, 2,4, 5,3]\n",
        "len(agenda)"
      ],
      "metadata": {
        "id": "BptZ7QPKM5pk",
        "outputId": "e680b2e7-cf9a-4ff7-c1ce-c7c3799f230b",
        "colab": {
          "base_uri": "https://localhost:8080/"
        }
      },
      "execution_count": 16,
      "outputs": [
        {
          "output_type": "execute_result",
          "data": {
            "text/plain": [
              "12"
            ]
          },
          "metadata": {},
          "execution_count": 16
        }
      ]
    },
    {
      "cell_type": "code",
      "source": [
        "def imprimir_voos(agenda):\n",
        "  id_voo = -1\n",
        "  total_preco = 0\n",
        "  for i in range(len(agenda) // 2):\n",
        "    nome = pessoas[i][0]\n",
        "    origem = pessoas[i][1]\n",
        "    id_voo += 1\n",
        "    ida = voos[(origem, destino)][agenda[id_voo]]\n",
        "    total_preco += ida[2]\n",
        "    id_voo += 1\n",
        "    volta = voos[(destino, origem)][agenda[id_voo]]\n",
        "    total_preco += volta[2]\n",
        "    print('%10s%10s %5s-%5s %3s %5s-%5s %3s' % (nome, origem, ida[0], ida[1], ida[2],\n",
        "                                                volta[0], volta[1], volta[2]))\n",
        "  print('Preço total: ', total_preco)"
      ],
      "metadata": {
        "id": "IH6o5lZENwum"
      },
      "execution_count": 17,
      "outputs": []
    },
    {
      "cell_type": "code",
      "source": [
        "agenda = [1,0, 3,2, 7,1, 6,3, 2,4, 5,3]\n",
        "imprimir_voos(agenda)"
      ],
      "metadata": {
        "colab": {
          "base_uri": "https://localhost:8080/"
        },
        "id": "AuD_ua3SPq3w",
        "outputId": "63301c8b-3bec-4b96-b6ec-9108d12746e4"
      },
      "execution_count": 18,
      "outputs": [
        {
          "output_type": "stream",
          "name": "stdout",
          "text": [
            "    Lisboa       LIS  7:39-10:24 219  6:19- 8:13 239\n",
            "    Madrid       MAD 11:01-12:39 260  9:11-10:42 172\n",
            "     Paris       CDG 17:07-20:04 291  8:23-11:07 143\n",
            "    Dublin       DUB 15:27-17:18 151 10:33-12:03  74\n",
            "  Bruxelas       BRU  9:08-12:12 364 12:20-16:34 500\n",
            "   Londres       LHR 13:40-15:38 137 10:32-13:16 139\n",
            "Preço total:  2689\n"
          ]
        }
      ]
    },
    {
      "cell_type": "markdown",
      "source": [
        "## Fitness Function\n",
        "O objetivo dessa fitness funtion é fazer uma leitura e nos retornar o preço das passagens."
      ],
      "metadata": {
        "id": "JNLclj3KKxMT"
      }
    },
    {
      "cell_type": "code",
      "source": [
        "def fitness_function(agenda):\n",
        "  id_voo = -1\n",
        "  total_preco = 0\n",
        "  for i in range(len(agenda) // 2):\n",
        "    origem = pessoas[i][1]\n",
        "    id_voo += 1\n",
        "    ida = voos[(origem, destino)][agenda[id_voo]]\n",
        "    total_preco += ida[2]\n",
        "    id_voo += 1\n",
        "    volta = voos[(destino, origem)][agenda[id_voo]]\n",
        "    total_preco += volta[2]\n",
        "\n",
        "  return total_preco"
      ],
      "metadata": {
        "id": "QAtJ7-DfQ0mR"
      },
      "execution_count": 22,
      "outputs": []
    },
    {
      "cell_type": "code",
      "source": [
        "agenda = [1,0, 3,2, 7,1, 6,3, 2,4, 5,3]\n",
        "fitness_function(agenda)"
      ],
      "metadata": {
        "colab": {
          "base_uri": "https://localhost:8080/"
        },
        "id": "VROu4MmqRIJR",
        "outputId": "54d89d00-ca97-4fac-b552-69f89ec6cf36"
      },
      "execution_count": 23,
      "outputs": [
        {
          "output_type": "execute_result",
          "data": {
            "text/plain": [
              "2689"
            ]
          },
          "metadata": {},
          "execution_count": 23
        }
      ]
    },
    {
      "cell_type": "code",
      "source": [
        "!git clone https://github.com/gkhayes/mlrose.git\n",
        "!pip install mlrose/."
      ],
      "metadata": {
        "colab": {
          "base_uri": "https://localhost:8080/"
        },
        "id": "79leplUYcA8q",
        "outputId": "18593d95-2bb1-4232-a47e-98693b427e86"
      },
      "execution_count": 25,
      "outputs": [
        {
          "output_type": "stream",
          "name": "stdout",
          "text": [
            "Cloning into 'mlrose'...\n",
            "remote: Enumerating objects: 853, done.\u001b[K\n",
            "remote: Counting objects: 100% (4/4), done.\u001b[K\n",
            "remote: Compressing objects: 100% (4/4), done.\u001b[K\n",
            "remote: Total 853 (delta 0), reused 4 (delta 0), pack-reused 849\u001b[K\n",
            "Receiving objects: 100% (853/853), 414.35 KiB | 6.28 MiB/s, done.\n",
            "Resolving deltas: 100% (551/551), done.\n",
            "Processing ./mlrose\n",
            "  Preparing metadata (setup.py) ... \u001b[?25l\u001b[?25hdone\n",
            "Requirement already satisfied: numpy in /usr/local/lib/python3.10/dist-packages (from mlrose==1.3.0) (1.25.2)\n",
            "Requirement already satisfied: scipy in /usr/local/lib/python3.10/dist-packages (from mlrose==1.3.0) (1.11.4)\n",
            "Requirement already satisfied: scikit-learn in /usr/local/lib/python3.10/dist-packages (from mlrose==1.3.0) (1.2.2)\n",
            "Requirement already satisfied: joblib>=1.1.1 in /usr/local/lib/python3.10/dist-packages (from scikit-learn->mlrose==1.3.0) (1.4.0)\n",
            "Requirement already satisfied: threadpoolctl>=2.0.0 in /usr/local/lib/python3.10/dist-packages (from scikit-learn->mlrose==1.3.0) (3.4.0)\n",
            "Building wheels for collected packages: mlrose\n",
            "  Building wheel for mlrose (setup.py) ... \u001b[?25l\u001b[?25hdone\n",
            "  Created wheel for mlrose: filename=mlrose-1.3.0-py3-none-any.whl size=27710 sha256=2972ccc7d11ea9f0585a6fa7eee5a81b9919914ac9e9d0f4352a43a737c0c124\n",
            "  Stored in directory: /tmp/pip-ephem-wheel-cache-z5h9_zrv/wheels/50/ac/56/a248001dcf63344fbef992039dec2613cb4a7c56222c6f9a92\n",
            "Successfully built mlrose\n",
            "Installing collected packages: mlrose\n",
            "Successfully installed mlrose-1.3.0\n"
          ]
        }
      ]
    },
    {
      "cell_type": "code",
      "source": [
        "import six\n",
        "import sys\n",
        "sys.modules['sklearn.externals.six'] = six"
      ],
      "metadata": {
        "id": "-n1hBJh0cNWt"
      },
      "execution_count": 27,
      "outputs": []
    },
    {
      "cell_type": "code",
      "source": [
        "import mlrose"
      ],
      "metadata": {
        "id": "1mDiwOIRcTyR"
      },
      "execution_count": 28,
      "outputs": []
    },
    {
      "cell_type": "code",
      "source": [
        "fitness = mlrose.CustomFitness(fitness_function)"
      ],
      "metadata": {
        "id": "UB10-1licYFv"
      },
      "execution_count": 32,
      "outputs": []
    },
    {
      "cell_type": "code",
      "source": [
        "problema = mlrose.DiscreteOpt(length=12, fitness_fn=fitness,\n",
        "                              maximize = False, max_val = 10)"
      ],
      "metadata": {
        "id": "3y3LQXfAciHq"
      },
      "execution_count": 33,
      "outputs": []
    },
    {
      "cell_type": "markdown",
      "source": [
        "## Hill climb"
      ],
      "metadata": {
        "id": "oWhUyCwfKzdX"
      }
    },
    {
      "cell_type": "code",
      "source": [
        "melhor_solucao, melhor_custo = mlrose.hill_climb(problema)\n",
        "melhor_solucao, melhor_custo"
      ],
      "metadata": {
        "colab": {
          "base_uri": "https://localhost:8080/"
        },
        "id": "Rtz0n7GTdIVi",
        "outputId": "22d5c85f-c6eb-4e28-ac11-17e11d8c7d9e"
      },
      "execution_count": 35,
      "outputs": [
        {
          "output_type": "execute_result",
          "data": {
            "text/plain": [
              "(array([2, 6, 5, 7, 8, 1, 3, 6, 0, 2, 9, 1]), 1566.0)"
            ]
          },
          "metadata": {},
          "execution_count": 35
        }
      ]
    },
    {
      "cell_type": "code",
      "source": [
        "imprimir_voos(melhor_solucao)"
      ],
      "metadata": {
        "colab": {
          "base_uri": "https://localhost:8080/"
        },
        "id": "wqdfWwRgfdwz",
        "outputId": "14bec2d6-f7fb-43c4-e6d0-e818afdf9409"
      },
      "execution_count": 36,
      "outputs": [
        {
          "output_type": "stream",
          "name": "stdout",
          "text": [
            "    Lisboa       LIS  9:15-12:03  99 15:07-17:21 129\n",
            "    Madrid       MAD 14:22-16:32 126 17:06-20:00  95\n",
            "     Paris       CDG 18:23-21:35 134  8:23-11:07 143\n",
            "    Dublin       DUB 11:16-13:29  83 15:25-16:58  62\n",
            "  Bruxelas       BRU  6:12-10:22 230  9:49-13:51 229\n",
            "   Londres       LHR 20:30-23:11 114  8:19-11:16 122\n",
            "Preço total:  1566\n"
          ]
        }
      ]
    },
    {
      "cell_type": "markdown",
      "source": [
        "## Simulated annealing"
      ],
      "metadata": {
        "id": "GBO0eapsK2Lz"
      }
    },
    {
      "cell_type": "code",
      "source": [
        "melhor_solucao, melhor_custo = mlrose.simulated_annealing(problema,\n",
        "                                                        #   schedule=mlrose.decay.GeomDecay(init_temp=10000), # ATUALIZAÇÃO FEV-2024\n",
        "                                                          schedule=mlrose.GeomDecay(init_temp=10000), # ATUALIZAÇÃO FEV-2024\n",
        "                                                          random_state=1)\n",
        "melhor_solucao, melhor_custo"
      ],
      "metadata": {
        "colab": {
          "base_uri": "https://localhost:8080/"
        },
        "id": "-D9jxfqBhHjP",
        "outputId": "5bdb575f-ac9c-443a-d6a4-adbf3d25da76"
      },
      "execution_count": 48,
      "outputs": [
        {
          "output_type": "execute_result",
          "data": {
            "text/plain": [
              "(array([6, 7, 4, 9, 8, 4, 1, 0, 0, 3, 5, 3]), 1820.0)"
            ]
          },
          "metadata": {},
          "execution_count": 48
        }
      ]
    },
    {
      "cell_type": "code",
      "source": [
        "imprimir_voos(melhor_solucao)"
      ],
      "metadata": {
        "colab": {
          "base_uri": "https://localhost:8080/"
        },
        "id": "TGN1HcNmihMt",
        "outputId": "9184f8ad-3015-4dca-b69b-d9ddd8cb4d26"
      },
      "execution_count": 49,
      "outputs": [
        {
          "output_type": "stream",
          "name": "stdout",
          "text": [
            "    Lisboa       LIS 15:03-16:42 135 16:35-18:56 144\n",
            "    Madrid       MAD 12:44-14:17 134 19:32-21:25 160\n",
            "     Paris       CDG 18:23-21:35 134 12:37-15:05 170\n",
            "    Dublin       DUB  8:04-10:11  95  6:39- 8:09  86\n",
            "  Bruxelas       BRU  6:12-10:22 230 10:51-14:16 256\n",
            "   Londres       LHR 13:40-15:38 137 10:32-13:16 139\n",
            "Preço total:  1820\n"
          ]
        }
      ]
    },
    {
      "cell_type": "markdown",
      "source": [
        "## Algoritmo genético\n"
      ],
      "metadata": {
        "id": "t_QF2QymK47T"
      }
    },
    {
      "cell_type": "code",
      "source": [
        "melhor_solucao, melhor_custo = mlrose.genetic_alg(problema, pop_size=500, mutation_prob=0.2,\n",
        "                                                  random_state=1)\n",
        "melhor_solucao, melhor_custo"
      ],
      "metadata": {
        "colab": {
          "base_uri": "https://localhost:8080/"
        },
        "id": "NBuVApEJ3t8Z",
        "outputId": "456bf3c8-80b8-473c-8541-c061bfff5f69"
      },
      "execution_count": 50,
      "outputs": [
        {
          "output_type": "execute_result",
          "data": {
            "text/plain": [
              "(array([7, 3, 1, 2, 9, 0, 3, 8, 0, 3, 4, 1]), 1956.0)"
            ]
          },
          "metadata": {},
          "execution_count": 50
        }
      ]
    },
    {
      "cell_type": "code",
      "source": [
        "imprimir_voos(melhor_solucao)"
      ],
      "metadata": {
        "colab": {
          "base_uri": "https://localhost:8080/"
        },
        "id": "kyGuCsAj319H",
        "outputId": "3233f13f-4df8-4e65-cad2-4716bf53d933"
      },
      "execution_count": 51,
      "outputs": [
        {
          "output_type": "stream",
          "name": "stdout",
          "text": [
            "    Lisboa       LIS 16:51-19:09 147 11:07-13:24 171\n",
            "    Madrid       MAD  8:25-10:34 157  9:11-10:42 172\n",
            "     Paris       CDG 19:53-22:21 173  6:33- 9:14 172\n",
            "    Dublin       DUB 11:16-13:29  83 18:24-20:49 124\n",
            "  Bruxelas       BRU  6:12-10:22 230 10:51-14:16 256\n",
            "   Londres       LHR 12:08-14:59 149  8:19-11:16 122\n",
            "Preço total:  1956\n"
          ]
        }
      ]
    }
  ]
}